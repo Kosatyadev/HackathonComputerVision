{
  "metadata": {
    "kernelspec": {
      "language": "python",
      "display_name": "Python 3",
      "name": "python3"
    },
    "language_info": {
      "name": "python",
      "version": "3.11.13",
      "mimetype": "text/x-python",
      "codemirror_mode": {
        "name": "ipython",
        "version": 3
      },
      "pygments_lexer": "ipython3",
      "nbconvert_exporter": "python",
      "file_extension": ".py"
    },
    "kaggle": {
      "accelerator": "gpu",
      "dataSources": [
        {
          "sourceId": 12556319,
          "sourceType": "datasetVersion",
          "datasetId": 7928457
        },
        {
          "sourceId": 12582078,
          "sourceType": "datasetVersion",
          "datasetId": 7938602
        }
      ],
      "dockerImageVersionId": 31089,
      "isInternetEnabled": true,
      "language": "python",
      "sourceType": "notebook",
      "isGpuEnabled": true
    },
    "colab": {
      "provenance": []
    }
  },
  "nbformat_minor": 0,
  "nbformat": 4,
  "cells": [
    {
      "cell_type": "code",
      "source": [
        "!pip install ultralytics pyyaml -q"
      ],
      "metadata": {
        "_uuid": "8f2839f25d086af736a60e9eeb907d3b93b6e0e5",
        "_cell_guid": "b1076dfc-b9ad-4769-8c92-a6c4dae69d19",
        "trusted": true,
        "execution": {
          "iopub.status.busy": "2025-07-26T07:31:48.710622Z",
          "iopub.execute_input": "2025-07-26T07:31:48.710879Z",
          "iopub.status.idle": "2025-07-26T07:33:03.142463Z",
          "shell.execute_reply.started": "2025-07-26T07:31:48.710837Z",
          "shell.execute_reply": "2025-07-26T07:33:03.141697Z"
        },
        "id": "cMbm9DLykJgt",
        "outputId": "6fda513b-82d0-4e65-eb50-4e4bbf07ad75"
      },
      "outputs": [
        {
          "name": "stdout",
          "text": "\u001b[2K   \u001b[90m━━━━━━━━━━━━━━━━━━━━━━━━━━━━━━━━━━━━━━━━\u001b[0m \u001b[32m1.0/1.0 MB\u001b[0m \u001b[31m26.7 MB/s\u001b[0m eta \u001b[36m0:00:00\u001b[0m00:01\u001b[0m\n\u001b[2K   \u001b[90m━━━━━━━━━━━━━━━━━━━━━━━━━━━━━━━━━━━━━━━━\u001b[0m \u001b[32m363.4/363.4 MB\u001b[0m \u001b[31m4.9 MB/s\u001b[0m eta \u001b[36m0:00:00\u001b[0m:00:01\u001b[0m00:01\u001b[0m\n\u001b[2K   \u001b[90m━━━━━━━━━━━━━━━━━━━━━━━━━━━━━━━━━━━━━━━━\u001b[0m \u001b[32m13.8/13.8 MB\u001b[0m \u001b[31m90.4 MB/s\u001b[0m eta \u001b[36m0:00:00\u001b[0m:00:01\u001b[0m00:01\u001b[0m\n\u001b[2K   \u001b[90m━━━━━━━━━━━━━━━━━━━━━━━━━━━━━━━━━━━━━━━━\u001b[0m \u001b[32m24.6/24.6 MB\u001b[0m \u001b[31m76.2 MB/s\u001b[0m eta \u001b[36m0:00:00\u001b[0m:00:01\u001b[0m00:01\u001b[0m\n\u001b[2K   \u001b[90m━━━━━━━━━━━━━━━━━━━━━━━━━━━━━━━━━━━━━━━━\u001b[0m \u001b[32m883.7/883.7 kB\u001b[0m \u001b[31m38.2 MB/s\u001b[0m eta \u001b[36m0:00:00\u001b[0m\n\u001b[2K   \u001b[90m━━━━━━━━━━━━━━━━━━━━━━━━━━━━━━━━━━━━━━━━\u001b[0m \u001b[32m664.8/664.8 MB\u001b[0m \u001b[31m2.3 MB/s\u001b[0m eta \u001b[36m0:00:00\u001b[0m:00:01\u001b[0m00:01\u001b[0m\n\u001b[2K   \u001b[90m━━━━━━━━━━━━━━━━━━━━━━━━━━━━━━━━━━━━━━━━\u001b[0m \u001b[32m211.5/211.5 MB\u001b[0m \u001b[31m6.8 MB/s\u001b[0m eta \u001b[36m0:00:00\u001b[0m:00:01\u001b[0m00:01\u001b[0m\n\u001b[2K   \u001b[90m━━━━━━━━━━━━━━━━━━━━━━━━━━━━━━━━━━━━━━━━\u001b[0m \u001b[32m56.3/56.3 MB\u001b[0m \u001b[31m3.0 MB/s\u001b[0m eta \u001b[36m0:00:00\u001b[0m0:00:01\u001b[0m00:01\u001b[0m\n\u001b[2K   \u001b[90m━━━━━━━━━━━━━━━━━━━━━━━━━━━━━━━━━━━━━━━━\u001b[0m \u001b[32m127.9/127.9 MB\u001b[0m \u001b[31m7.5 MB/s\u001b[0m eta \u001b[36m0:00:00\u001b[0m:00:01\u001b[0m00:01\u001b[0m\n\u001b[2K   \u001b[90m━━━━━━━━━━━━━━━━━━━━━━━━━━━━━━━━━━━━━━━━\u001b[0m \u001b[32m207.5/207.5 MB\u001b[0m \u001b[31m8.0 MB/s\u001b[0m eta \u001b[36m0:00:00\u001b[0m:00:01\u001b[0m00:01\u001b[0m\n\u001b[2K   \u001b[90m━━━━━━━━━━━━━━━━━━━━━━━━━━━━━━━━━━━━━━━━\u001b[0m \u001b[32m21.1/21.1 MB\u001b[0m \u001b[31m71.7 MB/s\u001b[0m eta \u001b[36m0:00:00\u001b[0m:00:01\u001b[0m00:01\u001b[0m\n\u001b[?25h",
          "output_type": "stream"
        }
      ],
      "execution_count": null
    },
    {
      "cell_type": "code",
      "source": [
        "import os\n",
        "from ultralytics import RTDETR\n",
        "import shutil\n",
        "import random"
      ],
      "metadata": {
        "trusted": true,
        "execution": {
          "iopub.status.busy": "2025-07-26T07:33:51.118867Z",
          "iopub.execute_input": "2025-07-26T07:33:51.119465Z",
          "iopub.status.idle": "2025-07-26T07:33:54.672495Z",
          "shell.execute_reply.started": "2025-07-26T07:33:51.119433Z",
          "shell.execute_reply": "2025-07-26T07:33:54.671966Z"
        },
        "id": "fiCs2oIrkJgu",
        "outputId": "f6b80994-9f41-4115-a407-f1ba5f0dbffb"
      },
      "outputs": [
        {
          "name": "stdout",
          "text": "Creating new Ultralytics Settings v0.0.6 file ✅ \nView Ultralytics Settings with 'yolo settings' or at '/root/.config/Ultralytics/settings.json'\nUpdate Settings with 'yolo settings key=value', i.e. 'yolo settings runs_dir=path/to/dir'. For help see https://docs.ultralytics.com/quickstart/#ultralytics-settings.\n",
          "output_type": "stream"
        }
      ],
      "execution_count": null
    },
    {
      "cell_type": "code",
      "source": [
        "!mkdir -p dataset/train/images dataset/train/labels dataset/val/images dataset/val/labels\n",
        "#Создание структуры"
      ],
      "metadata": {
        "trusted": true,
        "execution": {
          "iopub.status.busy": "2025-07-26T07:33:57.842566Z",
          "iopub.execute_input": "2025-07-26T07:33:57.842968Z",
          "iopub.status.idle": "2025-07-26T07:33:57.970061Z",
          "shell.execute_reply.started": "2025-07-26T07:33:57.842943Z",
          "shell.execute_reply": "2025-07-26T07:33:57.969269Z"
        },
        "id": "jHdfCGpnkJgu"
      },
      "outputs": [],
      "execution_count": null
    },
    {
      "cell_type": "code",
      "source": [
        "import os\n",
        "import shutil\n",
        "import random\n",
        "from tqdm import tqdm\n",
        "\n",
        "# --- 1. УКАЖИТЕ ПРАВИЛЬНЫЙ ИСХОДНЫЙ ПУТЬ ---\n",
        "# Путь можно скопировать из левой панели \"Data\" в Kaggle.\n",
        "SOURCE_DATA_ROOT = '/kaggle/input/computervisiondataset' # <--- ИЗМЕНИТЕ ЭТУ СТРОКУ!\n",
        "\n",
        "# Пути к исходным папкам с изображениями и разметкой\n",
        "source_image_dir = os.path.join(SOURCE_DATA_ROOT, 'images6/images6') #Смена частей разделенного датасета!\n",
        "source_label_dir = os.path.join(SOURCE_DATA_ROOT, 'labels/labels')\n",
        "\n",
        "# --- 2. ПУТИ НАЗНАЧЕНИЯ---\n",
        "train_img_dir = '/kaggle/working/dataset/train/images'\n",
        "train_lbl_dir = '/kaggle/working/dataset/train/labels'\n",
        "val_img_dir = '/kaggle/working/dataset/val/images'\n",
        "val_lbl_dir = '/kaggle/working/dataset/val/labels'\n",
        "\n",
        "# Убедимся, что директории назначения существуют (на всякий случай)\n",
        "os.makedirs(train_img_dir, exist_ok=True)\n",
        "os.makedirs(train_lbl_dir, exist_ok=True)\n",
        "os.makedirs(val_img_dir, exist_ok=True)\n",
        "os.makedirs(val_lbl_dir, exist_ok=True)\n",
        "\n",
        "# --- 3. РАЗДЕЛЕНИЕ ФАЙЛОВ ---\n",
        "print(f\"Поиск изображений в: {source_image_dir}\")\n",
        "\n",
        "try:\n",
        "    # Получаем список всех файлов изображений.\n",
        "    images = [f for f in os.listdir(source_image_dir) if f.endswith(('.JPG', 'jpg'))]\n",
        "    if not images:\n",
        "        print(\"ОШИБКА: В исходной папке не найдено изображений. Проверьте путь и расширения файлов.\")\n",
        "    else:\n",
        "        print(f\"Найдено {len(images)} изображений.\")\n",
        "        random.shuffle(images)\n",
        "\n",
        "        # Делим 85% на train, 15% на val\n",
        "        split_ratio = 0.85\n",
        "        split_idx = int(len(images) * split_ratio)\n",
        "        train_imgs = images[:split_idx]\n",
        "        val_imgs = images[split_idx:]\n",
        "\n",
        "        # --- 4. ФУНКЦИЯ КОПИРОВАНИЯ ---\n",
        "        def move_files(img_list, source_img_path, source_lbl_path, dest_img_path, dest_lbl_path):\n",
        "            for img_name in tqdm(img_list, desc=f\"Копирование в {os.path.basename(os.path.dirname(dest_img_path))}\"):\n",
        "                base_name = os.path.splitext(img_name)[0]\n",
        "                label_name = f\"{base_name}.txt\"\n",
        "\n",
        "                # Исходные пути\n",
        "                src_img_file = os.path.join(source_img_path, img_name)\n",
        "                src_lbl_file = os.path.join(source_lbl_path, label_name)\n",
        "\n",
        "                # Пути назначения\n",
        "                dest_img_file = os.path.join(dest_img_path, img_name)\n",
        "                dest_lbl_file = os.path.join(dest_lbl_path, label_name)\n",
        "\n",
        "                # Копируем, только если исходный файл существует\n",
        "                if os.path.exists(src_img_file):\n",
        "                    shutil.copy(src_img_file, dest_img_file)\n",
        "                if os.path.exists(src_lbl_file):\n",
        "                    shutil.copy(src_lbl_file, dest_lbl_file)\n",
        "\n",
        "        # --- 5. ЗАПУСК КОПИРОВАНИЯ ---\n",
        "        print(\"\\nНачинаю копирование обучающих файлов...\")\n",
        "        move_files(train_imgs, source_image_dir, source_label_dir, train_img_dir, train_lbl_dir)\n",
        "\n",
        "        print(\"\\nНачинаю копирование валидационных файлов...\")\n",
        "        move_files(val_imgs, source_image_dir, source_label_dir, val_img_dir, val_lbl_dir)\n",
        "\n",
        "        print(f\"\\n✅ Готово! Разделено: {len(train_imgs)} в train, {len(val_imgs)} в val.\")\n",
        "        print(f\"Данные находятся в /kaggle/working/dataset\")\n",
        "\n",
        "except FileNotFoundError:\n",
        "    print(f\"КРИТИЧЕСКАЯ ОШИБКА: Не удалось найти исходную директорию: '{source_image_dir}'\")\n",
        "    print(\"Пожалуйста, убедитесь, что путь в переменной SOURCE_DATA_ROOT указан верно и датасет добавлен в ноутбук.\")"
      ],
      "metadata": {
        "trusted": true,
        "execution": {
          "iopub.status.busy": "2025-07-26T09:46:29.048775Z",
          "iopub.execute_input": "2025-07-26T09:46:29.049138Z",
          "iopub.status.idle": "2025-07-26T09:50:34.298001Z",
          "shell.execute_reply.started": "2025-07-26T09:46:29.049108Z",
          "shell.execute_reply": "2025-07-26T09:50:34.297157Z"
        },
        "id": "9uobA-WikJgv",
        "outputId": "cae17b58-055c-4783-b995-072a6546d62b"
      },
      "outputs": [
        {
          "name": "stdout",
          "text": "Поиск изображений в: /kaggle/input/computervisiondataset/images6/images6\nНайдено 4998 изображений.\n\nНачинаю копирование обучающих файлов...\n",
          "output_type": "stream"
        },
        {
          "name": "stderr",
          "text": "Копирование в train: 100%|██████████| 4248/4248 [03:28<00:00, 20.39it/s]\n",
          "output_type": "stream"
        },
        {
          "name": "stdout",
          "text": "\nНачинаю копирование валидационных файлов...\n",
          "output_type": "stream"
        },
        {
          "name": "stderr",
          "text": "Копирование в val: 100%|██████████| 750/750 [00:36<00:00, 20.38it/s]",
          "output_type": "stream"
        },
        {
          "name": "stdout",
          "text": "\n✅ Готово! Разделено: 4248 в train, 750 в val.\nДанные находятся в /kaggle/working/dataset\n",
          "output_type": "stream"
        },
        {
          "name": "stderr",
          "text": "\n",
          "output_type": "stream"
        }
      ],
      "execution_count": null
    },
    {
      "cell_type": "code",
      "source": [
        "#очистка рабочей директории\n",
        "!rm -rf /kaggle/working/*"
      ],
      "metadata": {
        "trusted": true,
        "execution": {
          "iopub.status.busy": "2025-07-26T09:44:37.723753Z",
          "iopub.execute_input": "2025-07-26T09:44:37.724531Z",
          "iopub.status.idle": "2025-07-26T09:44:39.786174Z",
          "shell.execute_reply.started": "2025-07-26T09:44:37.724506Z",
          "shell.execute_reply": "2025-07-26T09:44:39.784924Z"
        },
        "id": "nkj47w23kJgv"
      },
      "outputs": [],
      "execution_count": null
    },
    {
      "cell_type": "code",
      "source": [
        "import os\n",
        "from tqdm import tqdm\n",
        "\n",
        "# ==============================================================================\n",
        "# ================================ НАСТРОЙКИ ===================================\n",
        "# ==============================================================================\n",
        "\n",
        "# Укажите путь к корневой папке вашего датасета в рабочей директории\n",
        "DATASET_ROOT_PATH = '/kaggle/working/dataset'\n",
        "\n",
        "# Укажите максимальный размер файла в байтах, который следует считать \"пустым\".\n",
        "# Если ваши файлы весят 2 байта, порог в 5 байт их точно захватит.\n",
        "EMPTY_FILE_THRESHOLD_BYTES = 5\n",
        "\n",
        "# (Опционально) Расширения изображений для поиска парных файлов\n",
        "IMAGE_EXTENSIONS = {'.JPG', '.jpg'}\n",
        "\n",
        "# ==============================================================================\n",
        "# ====================== ДАЛЬШЕ КОД МОЖНО НЕ ТРОГАТЬ ===========================\n",
        "# ==============================================================================\n",
        "\n",
        "class DataCleaner:\n",
        "    def __init__(self, root_path, img_exts, threshold):\n",
        "        self.root_path = root_path\n",
        "        self.img_exts = img_exts\n",
        "        self.threshold = threshold\n",
        "        self.files_to_delete = {'labels': [], 'images': []}\n",
        "        self.deleted_count = 0\n",
        "\n",
        "    def find_problematic_files(self):\n",
        "        print(f\"🚀 Поиск 'почти пустых' файлов (размер <= {self.threshold} байт) в: {self.root_path}\")\n",
        "        for split in ['train', 'val']:\n",
        "            print(f\"\\n🔍 Сканирую раздел: '{split}'...\")\n",
        "            label_dir = os.path.join(self.root_path, split, 'labels')\n",
        "            image_dir = os.path.join(self.root_path, split, 'images')\n",
        "\n",
        "            if not os.path.exists(label_dir):\n",
        "                print(f\"Папка {label_dir} не найдена, пропускаю.\")\n",
        "                continue\n",
        "\n",
        "            for filename in tqdm(os.listdir(label_dir), desc=f\"Анализ '{split}/labels'\"):\n",
        "                if not filename.endswith('.txt'):\n",
        "                    continue\n",
        "\n",
        "                label_path = os.path.join(label_dir, filename)\n",
        "\n",
        "                # --- ИЗМЕНЕНИЕ ЗДЕСЬ ---\n",
        "                # Проверяем, что размер файла меньше или равен нашему порогу\n",
        "                if os.path.getsize(label_path) <= self.threshold:\n",
        "                    self.files_to_delete['labels'].append(label_path)\n",
        "\n",
        "                    # Ищем соответствующее изображение для удаления\n",
        "                    base_name = os.path.splitext(filename)[0]\n",
        "                    found_image = False\n",
        "                    for ext in self.img_exts:\n",
        "                        image_path = os.path.join(image_dir, base_name + ext)\n",
        "                        if os.path.exists(image_path):\n",
        "                            self.files_to_delete['images'].append(image_path)\n",
        "                            found_image = True\n",
        "                            break\n",
        "                    if not found_image:\n",
        "                        print(f\"⚠️ Не найдено парное изображение для проблемной разметки: {label_path}\")\n",
        "\n",
        "    def delete_files(self):\n",
        "        total_files = len(self.files_to_delete['labels']) + len(self.files_to_delete['images'])\n",
        "        if total_files == 0:\n",
        "            print(f\"\\n✅ Не найдено файлов разметки размером <= {self.threshold} байт. Удалять нечего.\")\n",
        "            return\n",
        "\n",
        "        print(f\"\\n🔥 Найдено {len(self.files_to_delete['labels'])} проблемных файлов разметки и {len(self.files_to_delete['images'])} соответствующих изображений.\")\n",
        "\n",
        "        user_input = input(f\"Вы уверены, что хотите удалить {total_files} файлов? (введите 'да' для подтверждения): \")\n",
        "\n",
        "        if user_input.lower() == 'да':\n",
        "            print(\"\\nНачинаю удаление...\")\n",
        "            # Удаляем файлы разметки\n",
        "            for f_path in tqdm(self.files_to_delete['labels'], desc=\"Удаление разметок\"):\n",
        "                try:\n",
        "                    os.remove(f_path)\n",
        "                    self.deleted_count += 1\n",
        "                except OSError as e:\n",
        "                    print(f\"Ошибка при удалении файла {f_path}: {e}\")\n",
        "\n",
        "            # Удаляем изображения\n",
        "            for f_path in tqdm(self.files_to_delete['images'], desc=\"Удаление изображений\"):\n",
        "                try:\n",
        "                    os.remove(f_path)\n",
        "                    self.deleted_count += 1\n",
        "                except OSError as e:\n",
        "                    print(f\"Ошибка при удалении файла {f_path}: {e}\")\n",
        "\n",
        "            print(f\"\\n✅ Готово! Удалено {self.deleted_count} файлов.\")\n",
        "        else:\n",
        "            print(\"\\nОтмена. Файлы не были удалены.\")\n",
        "\n",
        "# --- ЗАПУСК ПРОЦЕССА ОЧИСТКИ ---\n",
        "cleaner = DataCleaner(DATASET_ROOT_PATH, IMAGE_EXTENSIONS, EMPTY_FILE_THRESHOLD_BYTES)\n",
        "cleaner.find_problematic_files()\n",
        "cleaner.delete_files()\n"
      ],
      "metadata": {
        "trusted": true,
        "execution": {
          "iopub.status.busy": "2025-07-26T09:52:44.959833Z",
          "iopub.execute_input": "2025-07-26T09:52:44.960466Z",
          "iopub.status.idle": "2025-07-26T09:52:51.340765Z",
          "shell.execute_reply.started": "2025-07-26T09:52:44.960442Z",
          "shell.execute_reply": "2025-07-26T09:52:51.340042Z"
        },
        "id": "JkD-aafGkJgx",
        "outputId": "d142f133-d451-48ad-e9ca-b0a45c31afcc"
      },
      "outputs": [
        {
          "name": "stdout",
          "text": "🚀 Поиск 'почти пустых' файлов (размер <= 5 байт) в: /kaggle/working/dataset\n\n🔍 Сканирую раздел: 'train'...\n",
          "output_type": "stream"
        },
        {
          "name": "stderr",
          "text": "Анализ 'train/labels': 100%|██████████| 4248/4248 [00:00<00:00, 137778.70it/s]\n",
          "output_type": "stream"
        },
        {
          "name": "stdout",
          "text": "\n🔍 Сканирую раздел: 'val'...\n",
          "output_type": "stream"
        },
        {
          "name": "stderr",
          "text": "Анализ 'val/labels': 100%|██████████| 750/750 [00:00<00:00, 126076.23it/s]\n",
          "output_type": "stream"
        },
        {
          "name": "stdout",
          "text": "\n🔥 Найдено 358 проблемных файлов разметки и 358 соответствующих изображений.\n",
          "output_type": "stream"
        },
        {
          "output_type": "stream",
          "name": "stdin",
          "text": "Вы уверены, что хотите удалить 716 файлов? (введите 'да' для подтверждения):  да\n"
        },
        {
          "name": "stdout",
          "text": "\nНачинаю удаление...\n",
          "output_type": "stream"
        },
        {
          "name": "stderr",
          "text": "Удаление разметок: 100%|██████████| 358/358 [00:00<00:00, 34592.60it/s]\nУдаление изображений: 100%|██████████| 358/358 [00:00<00:00, 2917.07it/s]",
          "output_type": "stream"
        },
        {
          "name": "stdout",
          "text": "\n✅ Готово! Удалено 716 файлов.\n",
          "output_type": "stream"
        },
        {
          "name": "stderr",
          "text": "\n",
          "output_type": "stream"
        }
      ],
      "execution_count": null
    },
    {
      "cell_type": "code",
      "source": [
        "#Копирование весов\n",
        "!cp /kaggle/input/modeltrain/version5/version5/best.pt /kaggle/working/"
      ],
      "metadata": {
        "trusted": true,
        "execution": {
          "iopub.status.busy": "2025-07-26T09:52:08.523401Z",
          "iopub.execute_input": "2025-07-26T09:52:08.523719Z",
          "iopub.status.idle": "2025-07-26T09:52:10.250483Z",
          "shell.execute_reply.started": "2025-07-26T09:52:08.523697Z",
          "shell.execute_reply": "2025-07-26T09:52:10.249599Z"
        },
        "id": "deOGkid8kJgw"
      },
      "outputs": [],
      "execution_count": null
    },
    {
      "cell_type": "code",
      "source": [
        "#Пути\n",
        "WORK_DIR = \"/kaggle/working\"\n",
        "DATA_DIR = f\"{WORK_DIR}/dataset\"\n",
        "YAML_PATH = f\"{WORK_DIR}/dataset.yaml\""
      ],
      "metadata": {
        "trusted": true,
        "execution": {
          "iopub.status.busy": "2025-07-26T09:52:17.345119Z",
          "iopub.execute_input": "2025-07-26T09:52:17.345441Z",
          "iopub.status.idle": "2025-07-26T09:52:17.350019Z",
          "shell.execute_reply.started": "2025-07-26T09:52:17.345413Z",
          "shell.execute_reply": "2025-07-26T09:52:17.349244Z"
        },
        "id": "hux9RHPmkJgw"
      },
      "outputs": [],
      "execution_count": null
    },
    {
      "cell_type": "code",
      "source": [
        "#Создание dataset.yaml\n",
        "with open(YAML_PATH, \"w\") as f:\n",
        "    f.write(f\"\"\"\n",
        "path: {DATA_DIR}\n",
        "train: /kaggle/working/dataset/train/images\n",
        "val: /kaggle/working/dataset/val/images\n",
        "nc: 1\n",
        "names: ['person']\n",
        "\"\"\")"
      ],
      "metadata": {
        "trusted": true,
        "execution": {
          "iopub.status.busy": "2025-07-26T09:52:18.887143Z",
          "iopub.execute_input": "2025-07-26T09:52:18.887708Z",
          "iopub.status.idle": "2025-07-26T09:52:18.892268Z",
          "shell.execute_reply.started": "2025-07-26T09:52:18.887686Z",
          "shell.execute_reply": "2025-07-26T09:52:18.891518Z"
        },
        "id": "akCToDEpkJgw"
      },
      "outputs": [],
      "execution_count": null
    }
  ]
}